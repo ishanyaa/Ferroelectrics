{
 "cells": [
  {
   "cell_type": "code",
   "execution_count": 16,
   "id": "63184572",
   "metadata": {},
   "outputs": [],
   "source": [
    "import numpy as np\n",
    "import matplotlib.pyplot as plt\n",
    "\n",
    "# Constants\n",
    "hbar = 1.0545718e-34  # Reduced Planck's constant in J·s\n",
    "m = 9.10938356e-31    # Electron mass in kg\n",
    "q = 1.602176634e-19   # Elementary charge in C\n",
    "phi_0 = hbar / (2 * q)  # Flux quantum\n",
    "k = 1.380649e-23  \n"
   ]
  },
  {
   "cell_type": "code",
   "execution_count": 17,
   "id": "3eb1ba2c",
   "metadata": {},
   "outputs": [],
   "source": [
    "# Ferroelectric tunnel junction parameters\n",
    "hafnium_oxide_params = {\n",
    "    'dielectric_constant': 25.0,\n",
    "    'ferroelectric_polarization': 0.1,\n",
    "    'area': 1.0e-12,  # Junction area in m^2\n",
    "    'length': 1.0e-9,  # Junction length in m\n",
    "    'effective_mass': 0.2 * m,  # Effective mass of electron in the oxide\n",
    "    'temperature': 300,  # Temperature in Kelvin\n",
    "}\n",
    "\n",
    "# Other relevant parameters\n",
    "other_params = {\n",
    "    'barrier_height': 0.2,\n",
    "    'applied_voltage': 0.0,  # Initial applied voltage\n",
    "    'step_size': 0.01,  # Voltage step size for simulation\n",
    "}\n"
   ]
  },
  {
   "cell_type": "code",
   "execution_count": 18,
   "id": "8048d1e1",
   "metadata": {},
   "outputs": [],
   "source": [
    "# Function to calculate tunneling probability\n",
    "def tunneling_probability(V, hafnium_oxide_params, other_params):\n",
    "    dielectric_constant = hafnium_oxide_params['dielectric_constant']\n",
    "    ferroelectric_polarization = hafnium_oxide_params['ferroelectric_polarization']\n",
    "    area = hafnium_oxide_params['area']\n",
    "    length = hafnium_oxide_params['length']\n",
    "    effective_mass = hafnium_oxide_params['effective_mass']\n",
    "    temperature = hafnium_oxide_params['temperature']\n",
    "    phi_b = other_params['barrier_height']\n",
    "\n",
    "    # Calculate tunneling probability based on the Simmons model\n",
    "    term1 = (2 * effective_mass / hbar**2) * ((2 * m * phi_b)**0.5)\n",
    "    term2 = (2 / hbar) * (2 * m / effective_mass)**0.5\n",
    "    term3 = (2 * effective_mass * phi_b)**0.5\n",
    "    term4 = 1 / (dielectric_constant * q * ferroelectric_polarization * area)\n",
    "    term5 = np.exp(-((term1 / term2) * (term3)**0.5))\n",
    "\n",
    "    tunnel_prob = term4 * term5\n",
    "\n",
    "    return tunnel_prob\n"
   ]
  },
  {
   "cell_type": "code",
   "execution_count": 19,
   "id": "759e2640",
   "metadata": {},
   "outputs": [],
   "source": [
    "# Function to model ferroelectric tunnel junction behavior\n",
    "def ferroelectric_tunnel_junction_model(Vgb, hafnium_oxide_params, other_params):\n",
    "    # Initialize arrays to store results\n",
    "    current_characteristics = np.zeros_like(Vgb)\n",
    "\n",
    "    # Iterate through Vgb values\n",
    "    for i, V in enumerate(Vgb):\n",
    "        # Apply an increment of applied voltage\n",
    "        other_params['applied_voltage'] = V\n",
    "\n",
    "        # Calculate tunneling probability\n",
    "        tunnel_prob = tunneling_probability(V, hafnium_oxide_params, other_params)\n",
    "\n",
    "        # Calculate current using Simmons formula\n",
    "        current = tunnel_prob * q * hafnium_oxide_params['area'] * np.exp(\n",
    "            -((2 * hafnium_oxide_params['effective_mass'] * other_params['barrier_height'])**0.5) /\n",
    "            (hbar * (2 * hafnium_oxide_params['effective_mass'])**0.5)\n",
    "        )\n",
    "        \n",
    "        # Store the result in the current_characteristics array\n",
    "        current_characteristics[i] = current\n",
    "\n",
    "    return current_characteristics\n"
   ]
  },
  {
   "cell_type": "code",
   "execution_count": 20,
   "id": "e82b81df",
   "metadata": {},
   "outputs": [],
   "source": [
    "# Create Vgb values\n",
    "Vgb_values = np.linspace(-1.0, 1.0, 100)\n",
    "\n",
    "# Model ferroelectric tunnel junction behavior\n",
    "current_characteristics = ferroelectric_tunnel_junction_model(Vgb_values, hafnium_oxide_params, other_params)\n"
   ]
  },
  {
   "cell_type": "code",
   "execution_count": 21,
   "id": "80708714",
   "metadata": {},
   "outputs": [
    {
     "data": {
      "image/png": "[encoded data removed]",
      "text/plain": [
       "<Figure size 640x480 with 1 Axes>"
      ]
     },
     "metadata": {},
     "output_type": "display_data"
    }
   ],
   "source": [
    "# Plotting the characteristics\n",
    "plt.figure()\n",
    "plt.plot(Vgb_values, current_characteristics, label='Ferroelectric Tunnel Junction Characteristics')\n",
    "plt.xlabel('Vgb (Volts)')\n",
    "plt.ylabel('Current (Amps)')\n",
    "plt.legend()\n",
    "plt.grid(True)\n",
    "plt.show()\n"
   ]
  },
  {
   "cell_type": "code",
   "execution_count": null,
   "id": "249764c4",
   "metadata": {},
   "outputs": [],
   "source": []
  },
  {
   "cell_type": "code",
   "execution_count": null,
   "id": "a3304d50",
   "metadata": {},
   "outputs": [],
   "source": []
  },
  {
   "cell_type": "code",
   "execution_count": null,
   "id": "981be4d5",
   "metadata": {},
   "outputs": [],
   "source": []
  },
  {
   "cell_type": "code",
   "execution_count": null,
   "id": "91e77ea8",
   "metadata": {},
   "outputs": [],
   "source": []
  },
  {
   "cell_type": "code",
   "execution_count": null,
   "id": "9b02d2cc",
   "metadata": {},
   "outputs": [],
   "source": []
  },
  {
   "cell_type": "code",
   "execution_count": null,
   "id": "30870cc7",
   "metadata": {},
   "outputs": [],
   "source": []
  },
  {
   "cell_type": "code",
   "execution_count": 22,
   "id": "bdbcccdb",
   "metadata": {},
   "outputs": [],
   "source": [
    "def ferroelectric_tunnel_junction_model(V, hafnium_oxide_params, other_params):\n",
    "    # Initialize array to store current characteristics\n",
    "    current_characteristics = np.zeros_like(V)\n",
    "\n",
    "    # Iterate through bias voltage values\n",
    "    for i, bias_voltage in enumerate(V):\n",
    "        # Calculate tunneling probability\n",
    "        tunnel_prob = tunneling_probability(bias_voltage, hafnium_oxide_params, other_params)\n",
    "\n",
    "        # Current equation (simplified for illustration)\n",
    "        current = q * tunnel_prob\n",
    "\n",
    "        # Store the result in the current_characteristics array\n",
    "        current_characteristics[i] = current\n",
    "\n",
    "    return current_characteristics\n",
    "\n"
   ]
  },
  {
   "cell_type": "code",
   "execution_count": 23,
   "id": "6fb574a4",
   "metadata": {},
   "outputs": [
    {
     "ename": "KeyError",
     "evalue": "'bias_voltage'",
     "output_type": "error",
     "traceback": [
      "\u001b[1;31m---------------------------------------------------------------------------\u001b[0m",
      "\u001b[1;31mKeyError\u001b[0m                                  Traceback (most recent call last)",
      "Cell \u001b[1;32mIn[23], line 2\u001b[0m\n\u001b[0;32m      1\u001b[0m \u001b[38;5;66;03m# Create bias voltage values\u001b[39;00m\n\u001b[1;32m----> 2\u001b[0m bias_voltage_values \u001b[38;5;241m=\u001b[39m other_params[\u001b[38;5;124m'\u001b[39m\u001b[38;5;124mbias_voltage\u001b[39m\u001b[38;5;124m'\u001b[39m]\n\u001b[0;32m      4\u001b[0m \u001b[38;5;66;03m# Model ferroelectric tunnel junction behavior\u001b[39;00m\n\u001b[0;32m      5\u001b[0m current_characteristics \u001b[38;5;241m=\u001b[39m ferroelectric_tunnel_junction_model(bias_voltage_values, hafnium_oxide_params, other_params)\n",
      "\u001b[1;31mKeyError\u001b[0m: 'bias_voltage'"
     ]
    }
   ],
   "source": [
    "# Create bias voltage values\n",
    "bias_voltage_values = other_params['bias_voltage']\n",
    "\n",
    "# Model ferroelectric tunnel junction behavior\n",
    "current_characteristics = ferroelectric_tunnel_junction_model(bias_voltage_values, hafnium_oxide_params, other_params)\n"
   ]
  },
  {
   "cell_type": "code",
   "execution_count": null,
   "id": "bad3b3a8",
   "metadata": {},
   "outputs": [],
   "source": [
    "# Plotting the characteristics\n",
    "plt.figure()\n",
    "plt.plot(bias_voltage_values, current_characteristics, label='Ferroelectric Tunnel Junction Characteristics')\n",
    "plt.xlabel('Bias Voltage (V)')\n",
    "plt.ylabel('Current (A)')\n",
    "plt.legend()\n",
    "plt.grid(True)\n",
    "plt.show()\n"
   ]
  },
  {
   "cell_type": "code",
   "execution_count": null,
   "id": "eacc5308",
   "metadata": {},
   "outputs": [],
   "source": [
    "def tunneling_probability(V, hafnium_oxide_params, other_params):\n",
    "    # Extract parameters\n",
    "    dielectric_constant = hafnium_oxide_params['dielectric_constant']\n",
    "    ferroelectric_polarization = hafnium_oxide_params['ferroelectric_polarization']\n",
    "    tunneling_mass = hafnium_oxide_params['tunneling_mass']\n",
    "    barrier_height = hafnium_oxide_params['barrier_height']\n",
    "    temperature = other_params['temperature']\n",
    "\n",
    "    # Effective barrier height considering ferroelectric polarization\n",
    "    effective_barrier = barrier_height - ferroelectric_polarization\n",
    "\n",
    "    # Calculate tunneling probability using simplified model (e.g., Simmons model)\n",
    "    tunnel_prob = np.exp(\n",
    "        -2 * np.sqrt(2 * m) / hbar\n",
    "        * np.sqrt(dielectric_constant) * effective_barrier ** 0.5\n",
    "        - effective_barrier / (2 * k * temperature)\n",
    "        + (q * V) / (k * temperature)\n",
    "    )\n",
    "\n",
    "    return tunnel_prob\n"
   ]
  },
  {
   "cell_type": "code",
   "execution_count": null,
   "id": "a1f8365a",
   "metadata": {},
   "outputs": [],
   "source": [
    "# Ferroelectric tunnel junction parameters\n",
    "hafnium_oxide_params = {\n",
    "    'dielectric_constant': 25.0,\n",
    "    'ferroelectric_polarization': 1.0e-8,  # Polarization in C/m^2\n",
    "    'tunneling_mass': 0.5 * m,  # Effective mass of tunneling electrons\n",
    "    'barrier_height': 0.2,  # Barrier height in eV\n",
    "}\n",
    "\n",
    "# Other relevant parameters\n",
    "other_params = {\n",
    "    'temperature': 300,  # Temperature in Kelvin\n",
    "    'bias_voltage': np.linspace(-1, 1, 100),  # Bias voltage range\n",
    "}\n"
   ]
  }
 ],
 "metadata": {
  "kernelspec": {
   "display_name": "Python 3 (ipykernel)",
   "language": "python",
   "name": "python3"
  },
  "language_info": {
   "codemirror_mode": {
    "name": "ipython",
    "version": 3
   },
   "file_extension": ".py",
   "mimetype": "text/x-python",
   "name": "python",
   "nbconvert_exporter": "python",
   "pygments_lexer": "ipython3",
   "version": "3.11.4"
  }
 },
 "nbformat": 4,
 "nbformat_minor": 5
}
